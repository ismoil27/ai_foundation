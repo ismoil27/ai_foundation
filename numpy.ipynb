{
  "nbformat": 4,
  "nbformat_minor": 0,
  "metadata": {
    "colab": {
      "provenance": [],
      "gpuType": "T4",
      "authorship_tag": "ABX9TyPhZ8M8ByeSd5i2dzFongNZ",
      "include_colab_link": true
    },
    "kernelspec": {
      "name": "python3",
      "display_name": "Python 3"
    },
    "language_info": {
      "name": "python"
    },
    "accelerator": "GPU"
  },
  "cells": [
    {
      "cell_type": "markdown",
      "metadata": {
        "id": "view-in-github",
        "colab_type": "text"
      },
      "source": [
        "<a href=\"https://colab.research.google.com/github/ismoil27/ai_foundation/blob/main/numpy.ipynb\" target=\"_parent\"><img src=\"https://colab.research.google.com/assets/colab-badge.svg\" alt=\"Open In Colab\"/></a>"
      ]
    },
    {
      "cell_type": "code",
      "execution_count": null,
      "metadata": {
        "colab": {
          "base_uri": "https://localhost:8080/"
        },
        "id": "lFKJvyeMaG_i",
        "outputId": "7d1b2c55-901a-478c-b87e-04c006156018"
      },
      "outputs": [
        {
          "output_type": "stream",
          "name": "stdout",
          "text": [
            "Requirement already satisfied: numpy in /usr/local/lib/python3.11/dist-packages (2.0.2)\n"
          ]
        }
      ],
      "source": [
        "pip install numpy"
      ]
    },
    {
      "cell_type": "code",
      "source": [
        "import numpy as np\n",
        "\n",
        "arr = np.array([1, 3, 5, 7])\n",
        "print('numpy_array:', arr)\n",
        "\n",
        "arr.shape"
      ],
      "metadata": {
        "colab": {
          "base_uri": "https://localhost:8080/"
        },
        "id": "TN5ZeJLKaox8",
        "outputId": "7a37a60a-cdd8-4470-a4ed-e87d4f022011"
      },
      "execution_count": null,
      "outputs": [
        {
          "output_type": "stream",
          "name": "stdout",
          "text": [
            "numpy_array: [1 3 5 7]\n"
          ]
        },
        {
          "output_type": "execute_result",
          "data": {
            "text/plain": [
              "(4,)"
            ]
          },
          "metadata": {},
          "execution_count": 24
        }
      ]
    },
    {
      "cell_type": "code",
      "source": [
        "arr2 = np.array([[1, 3, 5, 7], [4, 6, 8, 9]])\n",
        "print('numpy_array2:', arr2)\n",
        "\n",
        "arr2.shape"
      ],
      "metadata": {
        "colab": {
          "base_uri": "https://localhost:8080/"
        },
        "id": "qi6QkBUdbmwT",
        "outputId": "b39b06a6-a201-4c9b-b654-575e6b427b6a"
      },
      "execution_count": null,
      "outputs": [
        {
          "output_type": "stream",
          "name": "stdout",
          "text": [
            "numpy_array2: [[1 3 5 7]\n",
            " [4 6 8 9]]\n"
          ]
        },
        {
          "output_type": "execute_result",
          "data": {
            "text/plain": [
              "(2, 4)"
            ]
          },
          "metadata": {},
          "execution_count": 25
        }
      ]
    },
    {
      "cell_type": "code",
      "source": [
        "# dtype()\n",
        "a = np.array([1, 2, 3])\n",
        "print(a.dtype)"
      ],
      "metadata": {
        "colab": {
          "base_uri": "https://localhost:8080/"
        },
        "id": "Ua3XDytPziRa",
        "outputId": "7f6258b9-9b9e-4935-b1ea-ae4fbe6bcef5"
      },
      "execution_count": null,
      "outputs": [
        {
          "output_type": "stream",
          "name": "stdout",
          "text": [
            "int64\n"
          ]
        }
      ]
    },
    {
      "cell_type": "code",
      "source": [
        "# reshape()\n",
        "a = np.array([1, 2, 3, 4, 5, 6])\n",
        "b = a.reshape(2, 3)\n",
        "print(\"shaped_array:\", b)"
      ],
      "metadata": {
        "colab": {
          "base_uri": "https://localhost:8080/"
        },
        "id": "7JnzXr-B0B7l",
        "outputId": "b53c2f3d-f532-445d-d4ea-2835d6930da7"
      },
      "execution_count": null,
      "outputs": [
        {
          "output_type": "stream",
          "name": "stdout",
          "text": [
            "shaped_array: [[1 2 3]\n",
            " [4 5 6]]\n"
          ]
        }
      ]
    },
    {
      "cell_type": "code",
      "source": [
        "# astype()\n",
        "a = np.array([1, 2, 3])\n",
        "b = a.astype(float)\n",
        "print(\"float:\", b)"
      ],
      "metadata": {
        "colab": {
          "base_uri": "https://localhost:8080/"
        },
        "id": "NsY6iWJA0x4l",
        "outputId": "2079e7a8-ca6b-42f9-e3ce-56ca26bed132"
      },
      "execution_count": null,
      "outputs": [
        {
          "output_type": "stream",
          "name": "stdout",
          "text": [
            "float: [1. 2. 3.]\n"
          ]
        }
      ]
    },
    {
      "cell_type": "code",
      "source": [
        "# np.zeros(), np.ones() => dummy data\n",
        "z = np.zeros((2, 3))\n",
        "o = np.ones((2, 3))\n",
        "\n",
        "print(\"zeros:\", z)\n",
        "print(\"ones:\", o)\n"
      ],
      "metadata": {
        "colab": {
          "base_uri": "https://localhost:8080/"
        },
        "id": "JFdjEprC1MtP",
        "outputId": "27f1eaa7-d8ff-44cf-f94e-787868a0ccac"
      },
      "execution_count": null,
      "outputs": [
        {
          "output_type": "stream",
          "name": "stdout",
          "text": [
            "zeros: [[0. 0. 0.]\n",
            " [0. 0. 0.]]\n",
            "ones: [[1. 1. 1.]\n",
            " [1. 1. 1.]]\n"
          ]
        }
      ]
    },
    {
      "cell_type": "code",
      "source": [
        "# ndim\n",
        "a = np.array([[1, 2], [3, 4]])\n",
        "print(\"ndim:\", a.ndim)"
      ],
      "metadata": {
        "colab": {
          "base_uri": "https://localhost:8080/"
        },
        "id": "bNxAM90_M9s3",
        "outputId": "fbef8a62-a00f-47d6-e418-a32aef54ac05"
      },
      "execution_count": null,
      "outputs": [
        {
          "output_type": "stream",
          "name": "stdout",
          "text": [
            "ndim: 2\n"
          ]
        }
      ]
    },
    {
      "cell_type": "code",
      "source": [
        "# arange()\n",
        "a = np.arange(1, 7)\n",
        "print(\"arange:\", a)"
      ],
      "metadata": {
        "colab": {
          "base_uri": "https://localhost:8080/"
        },
        "id": "Racq6QrqNVOr",
        "outputId": "d8d9929c-2362-4748-a393-a7038992535d"
      },
      "execution_count": null,
      "outputs": [
        {
          "output_type": "stream",
          "name": "stdout",
          "text": [
            "arange: [1 2 3 4 5 6]\n"
          ]
        }
      ]
    },
    {
      "cell_type": "code",
      "source": [
        "# sum(), mean(), max(), min()\n",
        "\n",
        "a = np.array([1, 2, 3, 4])\n",
        "\n",
        "print(\"sum:\", a.sum())\n",
        "print(\"mean:\", a.mean())\n",
        "print(\"max:\", a.max())\n",
        "print(\"min:\", a.min())"
      ],
      "metadata": {
        "colab": {
          "base_uri": "https://localhost:8080/"
        },
        "id": "TZFtrLfvNsFT",
        "outputId": "a90866be-2d50-41b8-bde3-630d2f8c2907"
      },
      "execution_count": null,
      "outputs": [
        {
          "output_type": "stream",
          "name": "stdout",
          "text": [
            "sum: 10\n",
            "mean: 2.5\n",
            "max: 4\n",
            "min: 1\n"
          ]
        }
      ]
    },
    {
      "cell_type": "code",
      "source": [
        "# flatten()\n",
        "\n",
        "a = np.array([[1, 2], [3, 4]])\n",
        "print('flatten:', a.flatten())"
      ],
      "metadata": {
        "colab": {
          "base_uri": "https://localhost:8080/"
        },
        "id": "pMacJgr4OXOU",
        "outputId": "9260cfde-6f99-4d4c-d000-2a2d13d8735b"
      },
      "execution_count": null,
      "outputs": [
        {
          "output_type": "stream",
          "name": "stdout",
          "text": [
            "flatten: [1 2 3 4]\n"
          ]
        }
      ]
    },
    {
      "cell_type": "code",
      "source": [
        "# T (Transpose)\n",
        "a = np.array([[1, 2], [3, 4]])\n",
        "print(\"transpose:\", a.T)"
      ],
      "metadata": {
        "colab": {
          "base_uri": "https://localhost:8080/"
        },
        "id": "_aYCh6cZRycf",
        "outputId": "f26a6d57-cf60-4f92-caf7-581757dfcbd8"
      },
      "execution_count": null,
      "outputs": [
        {
          "output_type": "stream",
          "name": "stdout",
          "text": [
            "transpose: [[1 3]\n",
            " [2 4]]\n"
          ]
        }
      ]
    },
    {
      "cell_type": "code",
      "source": [
        "# dot() @\n",
        "a = np.array([[1, 2], [3, 4]])\n",
        "b = np.array([[2, 0], [1, 2]])\n",
        "print(\"dot/multiplication:\", a.dot(b))"
      ],
      "metadata": {
        "colab": {
          "base_uri": "https://localhost:8080/"
        },
        "id": "oIqNpDPQUB8B",
        "outputId": "9ebc2377-aa4d-4232-ed85-e302b5911823"
      },
      "execution_count": null,
      "outputs": [
        {
          "output_type": "stream",
          "name": "stdout",
          "text": [
            "dot/multiplication: [[ 4  4]\n",
            " [10  8]]\n"
          ]
        }
      ]
    },
    {
      "cell_type": "code",
      "source": [
        "# random.rand()\n",
        "a = np.random.rand(2, 3) # => 0.0 and 1.0 / 0.0 included / 1.0 excluded\n",
        "print(\"random rand:\", a)"
      ],
      "metadata": {
        "colab": {
          "base_uri": "https://localhost:8080/"
        },
        "id": "Oe2MTHQaUkDo",
        "outputId": "0c0a3def-e1dc-4cad-888c-4b0525390658"
      },
      "execution_count": null,
      "outputs": [
        {
          "output_type": "stream",
          "name": "stdout",
          "text": [
            "random rand: [[0.86089698 0.01400655 0.14365008]\n",
            " [0.81635541 0.8480843  0.74890138]]\n"
          ]
        }
      ]
    }
  ]
}